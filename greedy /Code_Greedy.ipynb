{
 "cells": [
  {
   "cell_type": "markdown",
   "id": "imposed-playlist",
   "metadata": {},
   "source": [
    "# Greedy Algorithms"
   ]
  },
  {
   "cell_type": "markdown",
   "id": "d97cce87",
   "metadata": {},
   "source": [
    "Lab associated with Module 8: Greedy Algorithms"
   ]
  },
  {
   "cell_type": "markdown",
   "id": "5c7f2e9d",
   "metadata": {},
   "source": [
    "***"
   ]
  },
  {
   "cell_type": "code",
   "execution_count": 4,
   "id": "5b495ad0",
   "metadata": {},
   "outputs": [
    {
     "name": "stderr",
     "output_type": "stream",
     "text": [
      "/var/folders/s1/w4ls_vks1632gqfx5vm1_4qc0000gn/T/ipykernel_12334/1945220536.py:2: DeprecationWarning: Importing display from IPython.core.display is deprecated since IPython 7.14, please import from IPython display\n",
      "  from IPython.core.display import display, HTML\n"
     ]
    },
    {
     "data": {
      "text/html": [
       "<style>.container { width:95% !important; }</style>"
      ],
      "text/plain": [
       "<IPython.core.display.HTML object>"
      ]
     },
     "metadata": {},
     "output_type": "display_data"
    }
   ],
   "source": [
    "# The following lines are used to increase the width of cells to utilize more space on the screen \n",
    "from IPython.core.display import display, HTML\n",
    "display(HTML(\"<style>.container { width:95% !important; }</style>\"))"
   ]
  },
  {
   "cell_type": "markdown",
   "id": "3a2b855c",
   "metadata": {},
   "source": [
    "***"
   ]
  },
  {
   "cell_type": "markdown",
   "id": "9d0921a0",
   "metadata": {},
   "source": [
    "### Section 0: Imports"
   ]
  },
  {
   "cell_type": "code",
   "execution_count": 7,
   "id": "477622d5",
   "metadata": {},
   "outputs": [],
   "source": [
    "import numpy as np\n",
    "import heapq"
   ]
  },
  {
   "cell_type": "code",
   "execution_count": 8,
   "id": "50fb5ed5",
   "metadata": {},
   "outputs": [],
   "source": [
    "import math"
   ]
  },
  {
   "cell_type": "code",
   "execution_count": 9,
   "id": "9910ee06",
   "metadata": {},
   "outputs": [],
   "source": [
    "from IPython.display import Image\n",
    "from graphviz import Digraph"
   ]
  },
  {
   "cell_type": "markdown",
   "id": "7f9321f8",
   "metadata": {},
   "source": [
    "***"
   ]
  },
  {
   "cell_type": "markdown",
   "id": "f9b31a04",
   "metadata": {},
   "source": [
    "### <font color='red'> Activity 1: Write code for creating a prefix tree for any arbitrary distribution, e.g., [A:45, B:13, C:12, D:16, E:9, F:5]. Your algorithm should return the prefix tree and should display the correct code for every alphabet.. </font>"
   ]
  },
  {
   "cell_type": "code",
   "execution_count": 12,
   "id": "8d176b03",
   "metadata": {},
   "outputs": [
    {
     "name": "stdout",
     "output_type": "stream",
     "text": [
      "Character Huffman Codes:\n",
      "A: 0\n",
      "C: 100\n",
      "B: 101\n",
      "F: 1100\n",
      "E: 1101\n",
      "D: 111\n",
      "\n",
      "Total Cost of the Huffman Tree: 224\n"
     ]
    }
   ],
   "source": [
    "#### TODO ####\n",
    "### Good Luck ###\n",
    "\n",
    "class Node:\n",
    "    def __init__(self, char=None, freq=0, left=None, right=None):\n",
    "        self.char = char\n",
    "        self.freq = freq\n",
    "        self.left = left\n",
    "        self.right = right\n",
    "\n",
    "    def __lt__(self, other):\n",
    "        return self.freq < other.freq\n",
    "\n",
    "def create_huffman_tree(freq_distribution):\n",
    "    # Step 1: Initialize a min-heap (priority queue)\n",
    "    heap = []\n",
    "    \n",
    "    # Create leaf nodes for each character and insert them into the heap\n",
    "    for char, freq in freq_distribution.items():\n",
    "        node = Node(char, freq)\n",
    "        heapq.heappush(heap, node)\n",
    "    \n",
    "    # Step 2: Combine nodes with the smallest frequencies\n",
    "    while len(heap) > 1:\n",
    "        # Extract the two nodes with the smallest frequency\n",
    "        left = heapq.heappop(heap)\n",
    "        right = heapq.heappop(heap)\n",
    "        \n",
    "        # Create a new internal node with the sum of the two frequencies\n",
    "        merged_node = Node(None, left.freq + right.freq, left, right)\n",
    "        \n",
    "        # Insert the new node back into the heap\n",
    "        heapq.heappush(heap, merged_node)\n",
    "    \n",
    "    # The remaining node is the root of the Huffman tree\n",
    "    return heap[0]\n",
    "\n",
    "def generate_codes(node, prefix=\"\", code_map=None):\n",
    "    if code_map is None:\n",
    "        code_map = {}\n",
    "\n",
    "    if node.char is not None:\n",
    "        code_map[node.char] = prefix\n",
    "    else:\n",
    "        if node.left:\n",
    "            generate_codes(node.left, prefix + \"0\", code_map)\n",
    "        if node.right:\n",
    "            generate_codes(node.right, prefix + \"1\", code_map)\n",
    "\n",
    "    return code_map\n",
    "\n",
    "def calculate_cost(freq_distribution, code_map):\n",
    "    total_cost = 0\n",
    "    for char, code in code_map.items():\n",
    "        total_cost += freq_distribution[char] * len(code)\n",
    "    return total_cost\n",
    "\n",
    "if __name__ == \"__main__\":\n",
    "    freq_distribution = {\n",
    "        'A': 45,\n",
    "        'B': 13,\n",
    "        'C': 12,\n",
    "        'D': 16,\n",
    "        'E': 9,\n",
    "        'F': 5\n",
    "    }\n",
    "\n",
    "    # Step 1: Create the Huffman tree using the greedy strategy\n",
    "    huffman_tree = create_huffman_tree(freq_distribution)\n",
    "\n",
    "    # Step 2: Generate the Huffman codes from the Huffman tree\n",
    "    huffman_codes = generate_codes(huffman_tree)\n",
    "\n",
    "    # Step 3: Calculate the total cost of the Huffman Tree\n",
    "    total_cost = calculate_cost(freq_distribution, huffman_codes)\n",
    "\n",
    "    # Step 4: Display the Huffman codes and the total cost of the tree\n",
    "    print(\"Character Huffman Codes:\")\n",
    "    for char, code in huffman_codes.items():\n",
    "        print(f\"{char}: {code}\")\n",
    "\n",
    "    print(f\"\\nTotal Cost of the Huffman Tree: {total_cost}\")\n",
    "\n",
    "\n",
    "\n",
    "\n"
   ]
  },
  {
   "cell_type": "markdown",
   "id": "6570890e",
   "metadata": {},
   "source": [
    "***"
   ]
  },
  {
   "cell_type": "markdown",
   "id": "6e92fc09",
   "metadata": {},
   "source": [
    "###  Prim's Algorithm"
   ]
  },
  {
   "cell_type": "markdown",
   "id": "ce467019",
   "metadata": {},
   "source": [
    "Graph's Preliminaries"
   ]
  },
  {
   "cell_type": "code",
   "execution_count": 16,
   "id": "4cdc7ece",
   "metadata": {},
   "outputs": [],
   "source": [
    "from graph import *"
   ]
  },
  {
   "cell_type": "code",
   "execution_count": 17,
   "id": "a75ba3ec",
   "metadata": {},
   "outputs": [],
   "source": [
    "G = Graph()\n",
    "\n",
    "for i in ['A', 'B', 'C', 'D', 'E', 'F', 'G', 'H', 'I']:\n",
    "    G.addVertex( Node(i) )"
   ]
  },
  {
   "cell_type": "code",
   "execution_count": 18,
   "id": "c990d75e",
   "metadata": {},
   "outputs": [],
   "source": [
    "V = G.vertices\n",
    "\n",
    "#0, 1, 2, 3, 4, 5, 6, 7, 8\n",
    "#A, B, C, D, E, F, G, H, I\n",
    "\n",
    "G.addBiEdge( V[0], V[1], 4)\n",
    "\n",
    "G.addBiEdge( V[0], V[7] , 8)\n",
    "\n",
    "G.addBiEdge( V[1], V[7], 11)\n",
    "\n",
    "G.addBiEdge( V[1], V[2], 8)\n",
    "\n",
    "G.addBiEdge( V[2], V[3], 7)\n",
    "\n",
    "G.addBiEdge( V[3], V[4], 9)\n",
    "\n",
    "G.addBiEdge( V[3], V[5], 14 )\n",
    "\n",
    "G.addBiEdge( V[4], V[5], 10 )\n",
    "\n",
    "G.addBiEdge( V[2], V[5], 4 )\n",
    "\n",
    "G.addBiEdge( V[2], V[8], 2 )\n",
    "\n",
    "G.addBiEdge( V[5], V[6], 2 )\n",
    "\n",
    "G.addBiEdge( V[6], V[7], 1 )\n",
    "\n",
    "G.addBiEdge( V[6], V[8], 6 )\n",
    "\n",
    "G.addBiEdge( V[7], V[8], 7 )\n"
   ]
  },
  {
   "cell_type": "code",
   "execution_count": 19,
   "id": "2ac81f26",
   "metadata": {},
   "outputs": [
    {
     "name": "stdout",
     "output_type": "stream",
     "text": [
      "Graph with:\n",
      "\t Vertices:\n",
      "\tA,B,C,D,E,F,G,H,I,\n",
      "\t Edges:\n",
      "\t(A,(<graph.Node object at 0x128b0fb90>, 4)) (A,(<graph.Node object at 0x128d5bcb0>, 8)) (B,(<graph.Node object at 0x128d1a570>, 4)) (B,(<graph.Node object at 0x128d5bcb0>, 11)) (B,(<graph.Node object at 0x128d1a630>, 8)) (C,(<graph.Node object at 0x128b0fb90>, 8)) (C,(<graph.Node object at 0x128d1a4b0>, 7)) (C,(<graph.Node object at 0x128d1a7e0>, 4)) (C,(<graph.Node object at 0x128d5bce0>, 2)) (D,(<graph.Node object at 0x128d1a630>, 7)) (D,(<graph.Node object at 0x128d1a750>, 9)) (D,(<graph.Node object at 0x128d1a7e0>, 14)) (E,(<graph.Node object at 0x128d1a4b0>, 9)) (E,(<graph.Node object at 0x128d1a7e0>, 10)) (F,(<graph.Node object at 0x128d1a4b0>, 14)) (F,(<graph.Node object at 0x128d1a750>, 10)) (F,(<graph.Node object at 0x128d1a630>, 4)) (F,(<graph.Node object at 0x128d19ee0>, 2)) (G,(<graph.Node object at 0x128d1a7e0>, 2)) (G,(<graph.Node object at 0x128d5bcb0>, 1)) (G,(<graph.Node object at 0x128d5bce0>, 6)) (H,(<graph.Node object at 0x128d1a570>, 8)) (H,(<graph.Node object at 0x128b0fb90>, 11)) (H,(<graph.Node object at 0x128d19ee0>, 1)) (H,(<graph.Node object at 0x128d5bce0>, 7)) (I,(<graph.Node object at 0x128d1a630>, 2)) (I,(<graph.Node object at 0x128d19ee0>, 6)) (I,(<graph.Node object at 0x128d5bcb0>, 7)) \n",
      "\n"
     ]
    }
   ],
   "source": [
    "print(G)"
   ]
  },
  {
   "cell_type": "markdown",
   "id": "10941ad1",
   "metadata": {},
   "source": [
    "This is what we had in the lectures as the slow implementation of Prim's Algorithm"
   ]
  },
  {
   "cell_type": "code",
   "execution_count": 21,
   "id": "c75594c0",
   "metadata": {},
   "outputs": [],
   "source": [
    "# G is graph\n",
    "# s is the node to start\n",
    "\n",
    "def slowPrim(G, s):\n",
    "    \n",
    "    # first, find the lightest edge leaving s\n",
    "    bestWt = np.inf\n",
    "    bestu = None\n",
    "    \n",
    "    for u,wt in s.getOutNeighborsWithWeights():\n",
    "        \n",
    "        if wt < bestWt:\n",
    "            bestWt = wt\n",
    "            bestu = u\n",
    "    \n",
    "    MST = [ (s, bestu) ]\n",
    "    verticesVisited = [s,bestu]\n",
    "    \n",
    "    while len(verticesVisited) < len(G.vertices): # danger! this will loop forever if the graph isn't connected...\n",
    "        \n",
    "        # find the lightest edge (x,v) so that x has been visited and v hasn't.\n",
    "        bestWt = np.inf\n",
    "        bestv = None\n",
    "        bestx = None\n",
    "        \n",
    "        for x in verticesVisited:\n",
    "            for v,wt in x.getOutNeighborsWithWeights():\n",
    "                \n",
    "                if v in verticesVisited:\n",
    "                    continue\n",
    "                \n",
    "                if wt < bestWt:\n",
    "                    bestWt = wt\n",
    "                    bestv = v\n",
    "                    bestx = x\n",
    "                    \n",
    "        MST.append((bestx,bestv))\n",
    "        verticesVisited.append(bestv)\n",
    "    \n",
    "    return MST"
   ]
  },
  {
   "cell_type": "code",
   "execution_count": 22,
   "id": "f6ff20d2",
   "metadata": {},
   "outputs": [
    {
     "name": "stdout",
     "output_type": "stream",
     "text": [
      "A B\n",
      "A H\n",
      "H G\n",
      "G F\n",
      "F C\n",
      "C I\n",
      "C D\n",
      "D E\n"
     ]
    }
   ],
   "source": [
    "T = slowPrim(G, G.vertices[0])\n",
    "\n",
    "for x,y in T:\n",
    "    print(x,y)"
   ]
  },
  {
   "cell_type": "markdown",
   "id": "3f2b31e2",
   "metadata": {},
   "source": [
    "Okay, it seems to be working fine, but as we discussed, will be quite slow. Let us see if we can work on the faster version of the code as:"
   ]
  },
  {
   "cell_type": "markdown",
   "id": "42212e3d",
   "metadata": {},
   "source": [
    "### <font color='red'> Activity 2: In lights of Prim's Algorithm above, write an efficient implementation based on our discussions in the Seminar/Lecture. </font>"
   ]
  },
  {
   "cell_type": "code",
   "execution_count": 31,
   "id": "e32585d1",
   "metadata": {},
   "outputs": [],
   "source": [
    "def prim(G, s):\n",
    "    \n",
    "    #### TODO ####\n",
    "    ### Good Luck ###\n",
    "                    \n",
    "    # Initialize data structures\n",
    "    key = {v: np.inf for v in G.vertices}\n",
    "    parent = {v: None for v in G.vertices}\n",
    "    visited = set()\n",
    "    min_heap = []\n",
    "    \n",
    "    # Start with the initial vertex\n",
    "    key[s] = 0\n",
    "    heapq.heappush(min_heap, (0, s))\n",
    "    \n",
    "    MST = []\n",
    "    \n",
    "    while min_heap:\n",
    "        # Get the vertex with the smallest key\n",
    "        current_key, u = heapq.heappop(min_heap)\n",
    "        \n",
    "        if u in visited:\n",
    "            continue\n",
    "        \n",
    "        visited.add(u)\n",
    "        \n",
    "        # Add the edge to MST if it's not the starting vertex\n",
    "        if parent[u] is not None:\n",
    "            MST.append((parent[u], u))\n",
    "        \n",
    "        # Update the keys of neighbors\n",
    "        for v, weight in u.getOutNeighborsWithWeights():\n",
    "            if v not in visited and weight < key[v]:\n",
    "                key[v] = weight\n",
    "                parent[v] = u\n",
    "                heapq.heappush(min_heap, (key[v], v))\n",
    "    \n",
    "    return MST"
   ]
  },
  {
   "cell_type": "code",
   "execution_count": 33,
   "id": "e6c07571",
   "metadata": {},
   "outputs": [
    {
     "ename": "TypeError",
     "evalue": "'<' not supported between instances of 'Node' and 'Node'",
     "output_type": "error",
     "traceback": [
      "\u001b[0;31m---------------------------------------------------------------------------\u001b[0m",
      "\u001b[0;31mTypeError\u001b[0m                                 Traceback (most recent call last)",
      "Cell \u001b[0;32mIn[33], line 1\u001b[0m\n\u001b[0;32m----> 1\u001b[0m T \u001b[38;5;241m=\u001b[39m prim(G, G\u001b[38;5;241m.\u001b[39mvertices[\u001b[38;5;241m0\u001b[39m])\n\u001b[1;32m      3\u001b[0m \u001b[38;5;28;01mfor\u001b[39;00m x,y \u001b[38;5;129;01min\u001b[39;00m T:\n\u001b[1;32m      4\u001b[0m     \u001b[38;5;28mprint\u001b[39m(x,y)\n",
      "Cell \u001b[0;32mIn[31], line 36\u001b[0m, in \u001b[0;36mprim\u001b[0;34m(G, s)\u001b[0m\n\u001b[1;32m     34\u001b[0m             key[v] \u001b[38;5;241m=\u001b[39m weight\n\u001b[1;32m     35\u001b[0m             parent[v] \u001b[38;5;241m=\u001b[39m u\n\u001b[0;32m---> 36\u001b[0m             heapq\u001b[38;5;241m.\u001b[39mheappush(min_heap, (key[v], v))\n\u001b[1;32m     38\u001b[0m \u001b[38;5;28;01mreturn\u001b[39;00m MST\n",
      "\u001b[0;31mTypeError\u001b[0m: '<' not supported between instances of 'Node' and 'Node'"
     ]
    }
   ],
   "source": [
    "T = prim(G, G.vertices[0])\n",
    "\n",
    "for x,y in T:\n",
    "    print(x,y)"
   ]
  },
  {
   "cell_type": "markdown",
   "id": "cc0f5215",
   "metadata": {},
   "source": [
    "***"
   ]
  }
 ],
 "metadata": {
  "kernelspec": {
   "display_name": "Python 3 (ipykernel)",
   "language": "python",
   "name": "python3"
  },
  "language_info": {
   "codemirror_mode": {
    "name": "ipython",
    "version": 3
   },
   "file_extension": ".py",
   "mimetype": "text/x-python",
   "name": "python",
   "nbconvert_exporter": "python",
   "pygments_lexer": "ipython3",
   "version": "3.12.4"
  }
 },
 "nbformat": 4,
 "nbformat_minor": 5
}
