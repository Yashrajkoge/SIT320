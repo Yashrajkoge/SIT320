{
 "cells": [
  {
   "cell_type": "code",
   "execution_count": 2,
   "id": "b3616495-a822-4794-96fb-4e943a9c87a1",
   "metadata": {},
   "outputs": [
    {
     "name": "stdin",
     "output_type": "stream",
     "text": [
      "Enter the person's age:  6\n"
     ]
    },
    {
     "name": "stdout",
     "output_type": "stream",
     "text": [
      "The person is not eligible to drive.\n"
     ]
    }
   ],
   "source": [
    "def is_eligible_to_drive(age):\n",
    "\n",
    "    if age >= 18:\n",
    "        return \"The person is eligible to drive.\"\n",
    "    else:\n",
    "        return \"The person is not eligible to drive.\"\n",
    "\n",
    "# Example usage:\n",
    "age = int(input(\"Enter the person's age: \"))\n",
    "print(is_eligible_to_drive(age))\n"
   ]
  }
 ],
 "metadata": {
  "kernelspec": {
   "display_name": "Python 3 (ipykernel)",
   "language": "python",
   "name": "python3"
  },
  "language_info": {
   "codemirror_mode": {
    "name": "ipython",
    "version": 3
   },
   "file_extension": ".py",
   "mimetype": "text/x-python",
   "name": "python",
   "nbconvert_exporter": "python",
   "pygments_lexer": "ipython3",
   "version": "3.12.4"
  }
 },
 "nbformat": 4,
 "nbformat_minor": 5
}
