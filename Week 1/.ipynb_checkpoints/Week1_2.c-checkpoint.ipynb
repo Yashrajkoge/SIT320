{
 "cells": [
  {
   "cell_type": "code",
   "execution_count": null,
   "id": "4abead24-9b79-45d9-9a73-b96123b22228",
   "metadata": {},
   "outputs": [
    {
     "name": "stdin",
     "output_type": "stream",
     "text": [
      "Enter the person's age:  5\n"
     ]
    }
   ],
   "source": [
    "def can_drive(age, has_license):\n",
    "    \"\"\"\n",
    "    Determine if a person is available to drive.\n",
    "\n",
    "    Args:\n",
    "    age (int): The age of the person.\n",
    "    has_license (bool): Whether the person has a valid driver's license.\n",
    "\n",
    "    Returns:\n",
    "    str: A message indicating if the person can drive or not.\n",
    "    \"\"\"\n",
    "    if age >= 18 and has_license:\n",
    "        return \"The person is available to drive.\"\n",
    "    elif age >= 18 and not has_license:\n",
    "        return \"The person needs a valid driver's license to drive.\"\n",
    "    else:\n",
    "        return \"The person is not old enough to drive.\"\n",
    "\n",
    "# Example usage:\n",
    "age = int(input(\"Enter the person's age: \"))\n",
    "has_license = input(\"Does the person have a valid driver's license? (yes/no): \").strip().lower() == 'yes'\n",
    "\n",
    "print(can_drive(age, has_license))\n",
    "\n"
   ]
  },
  {
   "cell_type": "code",
   "execution_count": null,
   "id": "2fa1c30f-7195-4db4-886c-374fbf0d4126",
   "metadata": {},
   "outputs": [],
   "source": []
  }
 ],
 "metadata": {
  "kernelspec": {
   "display_name": "Python 3 (ipykernel)",
   "language": "python",
   "name": "python3"
  },
  "language_info": {
   "codemirror_mode": {
    "name": "ipython",
    "version": 3
   },
   "file_extension": ".py",
   "mimetype": "text/x-python",
   "name": "python",
   "nbconvert_exporter": "python",
   "pygments_lexer": "ipython3",
   "version": "3.12.4"
  }
 },
 "nbformat": 4,
 "nbformat_minor": 5
}
