{
  "cells": [
    {
      "cell_type": "markdown",
      "id": "f0b874c6",
      "metadata": {
        "id": "f0b874c6"
      },
      "source": [
        "# Simple Algorithm to play a game of Tic-Tac-Toe"
      ]
    },
    {
      "cell_type": "code",
      "execution_count": 1,
      "id": "4aac0aad",
      "metadata": {
        "colab": {
          "base_uri": "https://localhost:8080/",
          "height": 17
        },
        "id": "4aac0aad",
        "outputId": "c768e0aa-2505-478a-8f92-24383c99196f"
      },
      "outputs": [
        {
          "output_type": "display_data",
          "data": {
            "text/plain": [
              "<IPython.core.display.HTML object>"
            ],
            "text/html": [
              "<style>.container { width:85% !important; }</style>"
            ]
          },
          "metadata": {}
        }
      ],
      "source": [
        "from IPython.core.display import display, HTML\n",
        "display(HTML(\"<style>.container { width:85% !important; }</style>\"))"
      ]
    },
    {
      "cell_type": "markdown",
      "id": "34c654de",
      "metadata": {
        "id": "34c654de"
      },
      "source": [
        "The code is downloaded from here: https://github.com/doctorsmonsters/minimax_tic_tac_toe/blob/main/Minimax%20TicTacToe.ipynb\n",
        "I do not take any responsibility for its inner working.\n",
        "\n",
        "Your task is to understand it, evaluate it, and make it working.\n",
        "\n",
        "There can be problems in the code. Try fixing them, as part of setting-up the test cases activity\n",
        "        "
      ]
    },
    {
      "cell_type": "markdown",
      "id": "c17dead8",
      "metadata": {
        "id": "c17dead8"
      },
      "source": [
        "## Board Definition"
      ]
    },
    {
      "cell_type": "code",
      "execution_count": 2,
      "id": "3cf2893b",
      "metadata": {
        "id": "3cf2893b"
      },
      "outputs": [],
      "source": [
        "#define the board\n",
        "board={1:' ', 2:' ', 3:' ',\n",
        "       4:' ', 5:' ', 6:' ',\n",
        "       7:' ', 8:' ', 9:' '}"
      ]
    },
    {
      "cell_type": "code",
      "execution_count": 3,
      "id": "984bb13e",
      "metadata": {
        "id": "984bb13e"
      },
      "outputs": [],
      "source": [
        "#function to print the board\n",
        "def printBoard(board):\n",
        "    print(board[1]+'|'+board[2]+'|'+board[3])\n",
        "    print('-+-+-')\n",
        "    print(board[4] + '|' + board[5] + '|' + board[6])\n",
        "    print('-+-+-')\n",
        "    print(board[7] + '|' + board[8] + '|' + board[9])\n",
        "    print('\\n')"
      ]
    },
    {
      "cell_type": "code",
      "execution_count": 4,
      "id": "465cf5d5",
      "metadata": {
        "colab": {
          "base_uri": "https://localhost:8080/"
        },
        "id": "465cf5d5",
        "outputId": "3b09e88b-b176-4e7a-99c9-2cf08d10f0f6"
      },
      "outputs": [
        {
          "output_type": "stream",
          "name": "stdout",
          "text": [
            " | | \n",
            "-+-+-\n",
            " | | \n",
            "-+-+-\n",
            " | | \n",
            "\n",
            "\n"
          ]
        }
      ],
      "source": [
        "printBoard(board)"
      ]
    },
    {
      "cell_type": "code",
      "execution_count": 5,
      "id": "8046fe40",
      "metadata": {
        "id": "8046fe40"
      },
      "outputs": [],
      "source": [
        "#function to check is a certain position in the board is empty.\n",
        "def spaceIsFree(position):\n",
        "\n",
        "    if (board[position]==' '):\n",
        "        return True\n",
        "    else:\n",
        "        return False"
      ]
    },
    {
      "cell_type": "code",
      "execution_count": 6,
      "id": "7be5f340",
      "metadata": {
        "colab": {
          "base_uri": "https://localhost:8080/"
        },
        "id": "7be5f340",
        "outputId": "c0f0eabf-501f-4541-bea0-a28dd935949f"
      },
      "outputs": [
        {
          "output_type": "execute_result",
          "data": {
            "text/plain": [
              "True"
            ]
          },
          "metadata": {},
          "execution_count": 6
        }
      ],
      "source": [
        "spaceIsFree(1)"
      ]
    },
    {
      "cell_type": "code",
      "execution_count": 7,
      "id": "60f9b872",
      "metadata": {
        "id": "60f9b872"
      },
      "outputs": [],
      "source": [
        "#method to insert letter in space\n",
        "def insertLetter(letter, position):\n",
        "\n",
        "    if (spaceIsFree(position)):\n",
        "        board[position]=letter\n",
        "        printBoard(board)\n",
        "\n",
        "        if (chkDraw()):\n",
        "            print('Draw!')\n",
        "        elif (chkForWin()):\n",
        "            if (letter=='X'):\n",
        "                print('Bot wins!')\n",
        "            else:\n",
        "                print('You win!')\n",
        "        return\n",
        "\n",
        "    else:\n",
        "        print('Position taken, please pick a different position.')\n",
        "        position=int(input('Enter new position: '))\n",
        "        insertLetter(letter, position)\n",
        "\n",
        "        return"
      ]
    },
    {
      "cell_type": "code",
      "execution_count": 8,
      "id": "109afafc",
      "metadata": {
        "id": "109afafc"
      },
      "outputs": [],
      "source": [
        "#function to check if board is draw\n",
        "def chkDraw():\n",
        "\n",
        "    for key in board.keys():\n",
        "        if (board[key]==' '):\n",
        "            return False\n",
        "    return True\n",
        "\n",
        "#function to check if one user has won\n",
        "def chkForWin():\n",
        "\n",
        "    if (board[1]==board[2] and board[1]==board[3] and board[1] !=' '):\n",
        "        return True\n",
        "    elif (board[4]==board[5] and board[4]==board[6] and board[4] !=' '):\n",
        "        return True\n",
        "    elif (board[7]==board[8] and board[7]==board[9] and board[7] !=' '):\n",
        "        return True\n",
        "    elif (board[1]==board[5] and board[1]==board[9] and board[1] !=' '):\n",
        "        return True\n",
        "    elif (board[3]==board[5] and board[3]==board[7] and board[3] !=' '):\n",
        "        return True\n",
        "    elif (board[1]==board[4] and board[1]==board[7] and board[1] !=' '):\n",
        "        return True\n",
        "    elif (board[2]==board[5] and board[2]==board[8] and board[2] !=' '):\n",
        "        return True\n",
        "    elif (board[3]==board[6] and board[3]==board[9] and board[3] !=' '):\n",
        "        return True\n",
        "    else:\n",
        "        return False"
      ]
    },
    {
      "cell_type": "code",
      "execution_count": 9,
      "id": "f009c7af",
      "metadata": {
        "id": "f009c7af"
      },
      "outputs": [],
      "source": [
        "#function to check who won\n",
        "def chkMarkForWin(mark):\n",
        "\n",
        "    if (board[1]==board[2] and board[1]==board[3] and board[1] ==mark):\n",
        "        return True\n",
        "    elif (board[4]==board[5] and board[4]==board[6] and board[4] ==mark):\n",
        "        return True\n",
        "    elif (board[7]==board[8] and board[7]==board[9] and board[7] ==mark):\n",
        "        return True\n",
        "    elif (board[1]==board[5] and board[1]==board[9] and board[1] ==mark):\n",
        "        return True\n",
        "    elif (board[3]==board[5] and board[3]==board[7] and board[3] ==mark):\n",
        "        return True\n",
        "    elif (board[1]==board[4] and board[1]==board[7] and board[1] ==mark):\n",
        "        return True\n",
        "    elif (board[2]==board[5] and board[2]==board[8] and board[2] ==mark):\n",
        "        return True\n",
        "    elif (board[3]==board[6] and board[3]==board[9] and board[3] ==mark):\n",
        "        return True\n",
        "    else:\n",
        "        return False"
      ]
    },
    {
      "cell_type": "code",
      "execution_count": 10,
      "id": "c26e879c",
      "metadata": {
        "id": "c26e879c"
      },
      "outputs": [],
      "source": [
        "player = 'O'\n",
        "bot ='X'"
      ]
    },
    {
      "cell_type": "code",
      "execution_count": 11,
      "id": "8707d5ea",
      "metadata": {
        "id": "8707d5ea"
      },
      "outputs": [],
      "source": [
        "#function for player move\n",
        "def playerMove():\n",
        "    position=int(input('Enter position for O:'))\n",
        "    insertLetter(player, position)\n",
        "    return\n",
        "\n",
        "#function for bot move\n",
        "def compMove():\n",
        "\n",
        "    bestScore=-1000 #lowest to start with, for comaparison to the score after a certain move\n",
        "\n",
        "    bestMove=0\n",
        "\n",
        "    for key in board.keys(): #for loop to find emplty slots, make a move, calculate the score and see if its higher then best score\n",
        "        if (board[key]==' '):\n",
        "            board[key]=bot\n",
        "            score = minimax(board, 0, False) #calculate the score\n",
        "            board[key] = ' ' #set board back to what it was\n",
        "            if (score > bestScore): #compare the score from a certain move to the best score.\n",
        "                bestScore = score\n",
        "                bestMove = key\n",
        "\n",
        "    #at the end of the loop, we have the best move figured out.\n",
        "    insertLetter(bot, bestMove)\n",
        "    return"
      ]
    },
    {
      "cell_type": "code",
      "execution_count": 12,
      "id": "588e20e4",
      "metadata": {
        "id": "588e20e4"
      },
      "outputs": [],
      "source": [
        "def minimax(board, depth, isMaximizing):\n",
        "\n",
        "    if (chkMarkForWin(bot)):\n",
        "        return 1\n",
        "    elif (chkMarkForWin(player)):\n",
        "        return -1\n",
        "    elif (chkDraw()):\n",
        "        return 0\n",
        "\n",
        "    if isMaximizing:\n",
        "\n",
        "        bestScore = -1000\n",
        "\n",
        "        for key in board.keys():\n",
        "            if board[key]==' ':\n",
        "                board[key]=bot\n",
        "                score = minimax(board, depth + 1, False)  # Switch to minimizing player\n",
        "                board[key] = ' '\n",
        "                bestScore = max(bestScore, score)\n",
        "                if score == 1:  # Found an immediate winning move for bot\n",
        "                    break  # No need to explore further\n",
        "        return bestScore\n",
        "\n",
        "    else:\n",
        "\n",
        "        bestScore = 1000\n",
        "\n",
        "        for key in board.keys():\n",
        "            if board[key]==' ':\n",
        "                board[key]=player\n",
        "                score = minimax(board, depth + 1, True)  # Switch to maximizing player\n",
        "                board[key] = ' '\n",
        "                bestScore = min(bestScore, score)\n",
        "                if score == -1:  # Found an immediate blocking move for player\n",
        "                    break  # No need to explore further\n",
        "        return bestScore\n"
      ]
    },
    {
      "cell_type": "code",
      "execution_count": 13,
      "id": "c88a7035",
      "metadata": {
        "colab": {
          "base_uri": "https://localhost:8080/"
        },
        "id": "c88a7035",
        "outputId": "834070b5-f226-4b55-875d-7c82c78c607e"
      },
      "outputs": [
        {
          "output_type": "stream",
          "name": "stdout",
          "text": [
            "X| | \n",
            "-+-+-\n",
            " | | \n",
            "-+-+-\n",
            " | | \n",
            "\n",
            "\n",
            "Enter position for O:9\n",
            "X| | \n",
            "-+-+-\n",
            " | | \n",
            "-+-+-\n",
            " | |O\n",
            "\n",
            "\n",
            "X| |X\n",
            "-+-+-\n",
            " | | \n",
            "-+-+-\n",
            " | |O\n",
            "\n",
            "\n",
            "Enter position for O:5\n",
            "X| |X\n",
            "-+-+-\n",
            " |O| \n",
            "-+-+-\n",
            " | |O\n",
            "\n",
            "\n",
            "X|X|X\n",
            "-+-+-\n",
            " |O| \n",
            "-+-+-\n",
            " | |O\n",
            "\n",
            "\n",
            "Bot wins!\n"
          ]
        }
      ],
      "source": [
        "while not chkForWin():\n",
        "    compMove()\n",
        "    if chkForWin():\n",
        "      break\n",
        "    playerMove()\n",
        "    if chkForWin():\n",
        "      break"
      ]
    },
    {
      "cell_type": "code",
      "execution_count": 13,
      "id": "ec1719d4",
      "metadata": {
        "id": "ec1719d4"
      },
      "outputs": [],
      "source": []
    }
  ],
  "metadata": {
    "kernelspec": {
      "display_name": "Python 3 (ipykernel)",
      "language": "python",
      "name": "python3"
    },
    "language_info": {
      "codemirror_mode": {
        "name": "ipython",
        "version": 3
      },
      "file_extension": ".py",
      "mimetype": "text/x-python",
      "name": "python",
      "nbconvert_exporter": "python",
      "pygments_lexer": "ipython3",
      "version": "3.9.16"
    },
    "colab": {
      "provenance": []
    }
  },
  "nbformat": 4,
  "nbformat_minor": 5
}